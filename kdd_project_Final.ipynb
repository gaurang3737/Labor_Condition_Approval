{
 "cells": [
  {
   "cell_type": "code",
   "execution_count": 1,
   "metadata": {},
   "outputs": [],
   "source": [
    "import pandas as pd\n",
    "import seaborn as sns\n",
    "import numpy as np\n",
    "import matplotlib.pyplot as plt\n",
    "\n",
    "from sklearn.preprocessing import OneHotEncoder\n",
    "from sklearn.preprocessing import MinMaxScaler\n",
    "\n",
    "from sklearn.model_selection import train_test_split\n",
    "from sklearn.metrics import classification_report as cr\n",
    "from sklearn.metrics import accuracy_score as accu\n",
    "from sklearn.metrics import roc_curve,auc,precision_recall_curve\n",
    "\n",
    "from sklearn.ensemble import RandomForestClassifier\n",
    "from sklearn.tree import DecisionTreeClassifier as dtc\n",
    "from sklearn.neighbors import KNeighborsClassifier as knn\n",
    "from sklearn.naive_bayes import MultinomialNB\n",
    "from sklearn import svm\n",
    "from sklearn.neural_network import MLPClassifier as mlp"
   ]
  },
  {
   "cell_type": "code",
   "execution_count": 2,
   "metadata": {},
   "outputs": [
    {
     "name": "stderr",
     "output_type": "stream",
     "text": [
      "C:\\Users\\user\\Anaconda3\\lib\\site-packages\\IPython\\core\\interactiveshell.py:3020: DtypeWarning: Columns (25) have mixed types. Specify dtype option on import or set low_memory=False.\n",
      "  interactivity=interactivity, compiler=compiler, result=result)\n"
     ]
    },
    {
     "data": {
      "text/html": [
       "<div>\n",
       "<style scoped>\n",
       "    .dataframe tbody tr th:only-of-type {\n",
       "        vertical-align: middle;\n",
       "    }\n",
       "\n",
       "    .dataframe tbody tr th {\n",
       "        vertical-align: top;\n",
       "    }\n",
       "\n",
       "    .dataframe thead th {\n",
       "        text-align: right;\n",
       "    }\n",
       "</style>\n",
       "<table border=\"1\" class=\"dataframe\">\n",
       "  <thead>\n",
       "    <tr style=\"text-align: right;\">\n",
       "      <th></th>\n",
       "      <th>CASE_SUBMITTED_DAY</th>\n",
       "      <th>CASE_SUBMITTED_MONTH</th>\n",
       "      <th>CASE_SUBMITTED_YEAR</th>\n",
       "      <th>DECISION_DAY</th>\n",
       "      <th>DECISION_MONTH</th>\n",
       "      <th>DECISION_YEAR</th>\n",
       "      <th>VISA_CLASS</th>\n",
       "      <th>EMPLOYER_NAME</th>\n",
       "      <th>EMPLOYER_STATE</th>\n",
       "      <th>EMPLOYER_COUNTRY</th>\n",
       "      <th>...</th>\n",
       "      <th>PW_SOURCE_YEAR</th>\n",
       "      <th>PW_SOURCE_OTHER</th>\n",
       "      <th>WAGE_RATE_OF_PAY_FROM</th>\n",
       "      <th>WAGE_RATE_OF_PAY_TO</th>\n",
       "      <th>WAGE_UNIT_OF_PAY</th>\n",
       "      <th>H-1B_DEPENDENT</th>\n",
       "      <th>WILLFUL_VIOLATOR</th>\n",
       "      <th>WORKSITE_STATE</th>\n",
       "      <th>WORKSITE_POSTAL_CODE</th>\n",
       "      <th>CASE_STATUS</th>\n",
       "    </tr>\n",
       "  </thead>\n",
       "  <tbody>\n",
       "    <tr>\n",
       "      <th>0</th>\n",
       "      <td>24</td>\n",
       "      <td>2</td>\n",
       "      <td>2016</td>\n",
       "      <td>1</td>\n",
       "      <td>10</td>\n",
       "      <td>2016</td>\n",
       "      <td>H1B</td>\n",
       "      <td>DISCOVER PRODUCTS INC</td>\n",
       "      <td>IL</td>\n",
       "      <td>UNITED STATES OF AMERICA</td>\n",
       "      <td>...</td>\n",
       "      <td>2015.0</td>\n",
       "      <td>OFLC ONLINE DATA CENTER</td>\n",
       "      <td>65811.0</td>\n",
       "      <td>67320.0</td>\n",
       "      <td>Year</td>\n",
       "      <td>N</td>\n",
       "      <td>N</td>\n",
       "      <td>IL</td>\n",
       "      <td>60015</td>\n",
       "      <td>CERTIFIEDWITHDRAWN</td>\n",
       "    </tr>\n",
       "    <tr>\n",
       "      <th>1</th>\n",
       "      <td>4</td>\n",
       "      <td>3</td>\n",
       "      <td>2016</td>\n",
       "      <td>1</td>\n",
       "      <td>10</td>\n",
       "      <td>2016</td>\n",
       "      <td>H1B</td>\n",
       "      <td>DFS SERVICES LLC</td>\n",
       "      <td>IL</td>\n",
       "      <td>UNITED STATES OF AMERICA</td>\n",
       "      <td>...</td>\n",
       "      <td>2015.0</td>\n",
       "      <td>WILLIS TOWERS WATSON SURVEY</td>\n",
       "      <td>53000.0</td>\n",
       "      <td>57200.0</td>\n",
       "      <td>Year</td>\n",
       "      <td>N</td>\n",
       "      <td>N</td>\n",
       "      <td>IL</td>\n",
       "      <td>60015</td>\n",
       "      <td>CERTIFIEDWITHDRAWN</td>\n",
       "    </tr>\n",
       "    <tr>\n",
       "      <th>2</th>\n",
       "      <td>10</td>\n",
       "      <td>3</td>\n",
       "      <td>2016</td>\n",
       "      <td>1</td>\n",
       "      <td>10</td>\n",
       "      <td>2016</td>\n",
       "      <td>H1B</td>\n",
       "      <td>EASTBANC TECHNOLOGIES LLC</td>\n",
       "      <td>DC</td>\n",
       "      <td>UNITED STATES OF AMERICA</td>\n",
       "      <td>...</td>\n",
       "      <td>2015.0</td>\n",
       "      <td>OFLC ONLINE DATA CENTER</td>\n",
       "      <td>77000.0</td>\n",
       "      <td>0.0</td>\n",
       "      <td>Year</td>\n",
       "      <td>Y</td>\n",
       "      <td>N</td>\n",
       "      <td>DC</td>\n",
       "      <td>20007</td>\n",
       "      <td>CERTIFIEDWITHDRAWN</td>\n",
       "    </tr>\n",
       "    <tr>\n",
       "      <th>3</th>\n",
       "      <td>28</td>\n",
       "      <td>9</td>\n",
       "      <td>2016</td>\n",
       "      <td>1</td>\n",
       "      <td>10</td>\n",
       "      <td>2016</td>\n",
       "      <td>H1B</td>\n",
       "      <td>INFO SERVICES LLC</td>\n",
       "      <td>MI</td>\n",
       "      <td>UNITED STATES OF AMERICA</td>\n",
       "      <td>...</td>\n",
       "      <td>2016.0</td>\n",
       "      <td>OFLC ONLINE DATA CENTER</td>\n",
       "      <td>102000.0</td>\n",
       "      <td>0.0</td>\n",
       "      <td>Year</td>\n",
       "      <td>Y</td>\n",
       "      <td>N</td>\n",
       "      <td>NJ</td>\n",
       "      <td>7302</td>\n",
       "      <td>WITHDRAWN</td>\n",
       "    </tr>\n",
       "    <tr>\n",
       "      <th>4</th>\n",
       "      <td>22</td>\n",
       "      <td>2</td>\n",
       "      <td>2015</td>\n",
       "      <td>2</td>\n",
       "      <td>10</td>\n",
       "      <td>2016</td>\n",
       "      <td>H1B</td>\n",
       "      <td>BBandT CORPORATION</td>\n",
       "      <td>NC</td>\n",
       "      <td>UNITED STATES OF AMERICA</td>\n",
       "      <td>...</td>\n",
       "      <td>2015.0</td>\n",
       "      <td>OFLC ONLINE DATA CENTER</td>\n",
       "      <td>132500.0</td>\n",
       "      <td>0.0</td>\n",
       "      <td>Year</td>\n",
       "      <td>N</td>\n",
       "      <td>N</td>\n",
       "      <td>NY</td>\n",
       "      <td>10036</td>\n",
       "      <td>CERTIFIEDWITHDRAWN</td>\n",
       "    </tr>\n",
       "  </tbody>\n",
       "</table>\n",
       "<p>5 rows × 27 columns</p>\n",
       "</div>"
      ],
      "text/plain": [
       "   CASE_SUBMITTED_DAY  CASE_SUBMITTED_MONTH  CASE_SUBMITTED_YEAR  \\\n",
       "0                  24                     2                 2016   \n",
       "1                   4                     3                 2016   \n",
       "2                  10                     3                 2016   \n",
       "3                  28                     9                 2016   \n",
       "4                  22                     2                 2015   \n",
       "\n",
       "   DECISION_DAY  DECISION_MONTH  DECISION_YEAR VISA_CLASS  \\\n",
       "0             1              10           2016        H1B   \n",
       "1             1              10           2016        H1B   \n",
       "2             1              10           2016        H1B   \n",
       "3             1              10           2016        H1B   \n",
       "4             2              10           2016        H1B   \n",
       "\n",
       "               EMPLOYER_NAME EMPLOYER_STATE          EMPLOYER_COUNTRY  \\\n",
       "0      DISCOVER PRODUCTS INC             IL  UNITED STATES OF AMERICA   \n",
       "1           DFS SERVICES LLC             IL  UNITED STATES OF AMERICA   \n",
       "2  EASTBANC TECHNOLOGIES LLC             DC  UNITED STATES OF AMERICA   \n",
       "3          INFO SERVICES LLC             MI  UNITED STATES OF AMERICA   \n",
       "4         BBandT CORPORATION             NC  UNITED STATES OF AMERICA   \n",
       "\n",
       "          ...         PW_SOURCE_YEAR              PW_SOURCE_OTHER  \\\n",
       "0         ...                 2015.0      OFLC ONLINE DATA CENTER   \n",
       "1         ...                 2015.0  WILLIS TOWERS WATSON SURVEY   \n",
       "2         ...                 2015.0      OFLC ONLINE DATA CENTER   \n",
       "3         ...                 2016.0      OFLC ONLINE DATA CENTER   \n",
       "4         ...                 2015.0      OFLC ONLINE DATA CENTER   \n",
       "\n",
       "   WAGE_RATE_OF_PAY_FROM WAGE_RATE_OF_PAY_TO  WAGE_UNIT_OF_PAY H-1B_DEPENDENT  \\\n",
       "0                65811.0             67320.0              Year              N   \n",
       "1                53000.0             57200.0              Year              N   \n",
       "2                77000.0                 0.0              Year              Y   \n",
       "3               102000.0                 0.0              Year              Y   \n",
       "4               132500.0                 0.0              Year              N   \n",
       "\n",
       "  WILLFUL_VIOLATOR  WORKSITE_STATE WORKSITE_POSTAL_CODE         CASE_STATUS  \n",
       "0                N              IL                60015  CERTIFIEDWITHDRAWN  \n",
       "1                N              IL                60015  CERTIFIEDWITHDRAWN  \n",
       "2                N              DC                20007  CERTIFIEDWITHDRAWN  \n",
       "3                N              NJ                 7302           WITHDRAWN  \n",
       "4                N              NY                10036  CERTIFIEDWITHDRAWN  \n",
       "\n",
       "[5 rows x 27 columns]"
      ]
     },
     "execution_count": 2,
     "metadata": {},
     "output_type": "execute_result"
    }
   ],
   "source": [
    "# load master dataset\n",
    "df = pd.read_csv(\"h1b_dataset.csv\", encoding = \"ISO-8859-1\")\n",
    "df.head()"
   ]
  },
  {
   "cell_type": "code",
   "execution_count": 3,
   "metadata": {},
   "outputs": [
    {
     "data": {
      "text/plain": [
       "(475952, 27)"
      ]
     },
     "execution_count": 3,
     "metadata": {},
     "output_type": "execute_result"
    }
   ],
   "source": [
    "#extract samples with labels: denined/certified\n",
    "df_binary = df.loc[df['CASE_STATUS'] == 'DENIED']\n",
    "df_binary = df_binary.append(df.loc[df['CASE_STATUS'] == 'CERTIFIED'])\n",
    "df_binary.shape"
   ]
  },
  {
   "cell_type": "code",
   "execution_count": 4,
   "metadata": {},
   "outputs": [
    {
     "data": {
      "text/plain": [
       "6983"
      ]
     },
     "execution_count": 4,
     "metadata": {},
     "output_type": "execute_result"
    }
   ],
   "source": [
    "#number of samples with label = 'DENIED'\n",
    "n_denied = len(df_binary[df_binary.CASE_STATUS == 'DENIED'])\n",
    "n_certi = len(df_binary[df_binary.CASE_STATUS == 'CERTIFIED'])\n",
    "n_denied"
   ]
  },
  {
   "cell_type": "code",
   "execution_count": 5,
   "metadata": {},
   "outputs": [
    {
     "data": {
      "text/plain": [
       "<matplotlib.axes._subplots.AxesSubplot at 0x2033b655860>"
      ]
     },
     "execution_count": 5,
     "metadata": {},
     "output_type": "execute_result"
    },
    {
     "data": {
      "image/png": "[encoded data removed]",
      "text/plain": [
       "<Figure size 432x288 with 1 Axes>"
      ]
     },
     "metadata": {
      "needs_background": "light"
     },
     "output_type": "display_data"
    }
   ],
   "source": [
    "#Plot to observe that data is skewed\n",
    "sns.countplot(df_binary['CASE_STATUS'])"
   ]
  },
  {
   "cell_type": "code",
   "execution_count": 6,
   "metadata": {},
   "outputs": [
    {
     "name": "stdout",
     "output_type": "stream",
     "text": [
      "Number of DENIED samples: 6983\n",
      "Number of CERTIFIED samples: 6983\n",
      "Shape of combined dataset: (13966, 27)\n"
     ]
    }
   ],
   "source": [
    "#Balance dataset for both labels by taking random sample of \"CERTIFIED\" data label\n",
    "df_final = pd.DataFrame()\n",
    "df_final = df_binary.loc[df_binary.CASE_STATUS == 'CERTIFIED'].sample(n_denied, random_state=42)\\\n",
    "            .append(df_binary.loc[df_binary.CASE_STATUS=='DENIED'])\n",
    "\n",
    "#Checking\n",
    "print(\"Number of DENIED samples:\",list(df_final['CASE_STATUS']).count('DENIED'))\n",
    "print(\"Number of CERTIFIED samples:\", list(df_final['CASE_STATUS']).count('CERTIFIED'))\n",
    "print(\"Shape of combined dataset:\",df_final.shape)"
   ]
  },
  {
   "cell_type": "code",
   "execution_count": 7,
   "metadata": {},
   "outputs": [
    {
     "data": {
      "text/plain": [
       "H1B               13060\n",
       "E3 Australian       791\n",
       "H1B1 Chile           66\n",
       "H1B1 Singapore       49\n",
       "Name: VISA_CLASS, dtype: int64"
      ]
     },
     "execution_count": 7,
     "metadata": {},
     "output_type": "execute_result"
    }
   ],
   "source": [
    "# There are multiple visa classes in dataset\n",
    "df_final['VISA_CLASS'].value_counts()"
   ]
  },
  {
   "cell_type": "code",
   "execution_count": 8,
   "metadata": {},
   "outputs": [
    {
     "name": "stdout",
     "output_type": "stream",
     "text": [
      "H1B    13060\n",
      "Name: VISA_CLASS, dtype: int64\n"
     ]
    },
    {
     "data": {
      "text/plain": [
       "(13060, 27)"
      ]
     },
     "execution_count": 8,
     "metadata": {},
     "output_type": "execute_result"
    }
   ],
   "source": [
    "# Keep samples having visa_class = 'H1B' only\n",
    "df_final = df_final[df_final.VISA_CLASS == 'H1B']\n",
    "print(df_final['VISA_CLASS'].value_counts())\n",
    "df_final.shape"
   ]
  },
  {
   "cell_type": "code",
   "execution_count": 9,
   "metadata": {},
   "outputs": [],
   "source": [
    "#Utility function to rescale wages to 'yearly'\n",
    "def rescale_wage(value, type_):\n",
    "    \n",
    "    v = value\n",
    "    \n",
    "    if type_ == 'Month':\n",
    "        v *= 12    \n",
    "    if type_ == 'Week':\n",
    "        v *= 52\n",
    "    if type_ == 'Hour':\n",
    "        v *= 40 * 52\n",
    "    if type_ == 'Bi-Weekly':\n",
    "        v *= 26 \n",
    "    return v\n",
    "        "
   ]
  },
  {
   "cell_type": "code",
   "execution_count": 10,
   "metadata": {},
   "outputs": [
    {
     "name": "stdout",
     "output_type": "stream",
     "text": [
      "184141    115000.0\n",
      "490923    129323.0\n",
      "277751     60000.0\n",
      "107933     95000.0\n",
      "520727     38043.0\n",
      "Name: WAGE_RATE_OF_PAY_FROM, dtype: float64\n",
      "184141    110219.0\n",
      "490923    129323.0\n",
      "277751     48838.0\n",
      "107933     90813.0\n",
      "520727     38043.0\n",
      "Name: PREVAILING_WAGE, dtype: float64\n"
     ]
    }
   ],
   "source": [
    "#Rescale wage_rate_of_pay and prevailing_wage to 'yearly'\n",
    "df_final['PREVAILING_WAGE'] = df_final[['PREVAILING_WAGE', 'PW_UNIT_OF_PAY']]\\\n",
    "                    .apply(lambda x: rescale_wage(x['PREVAILING_WAGE'], x['PW_UNIT_OF_PAY']), axis=1)\n",
    "\n",
    "df_final['WAGE_RATE_OF_PAY_FROM'] = df_final[['WAGE_RATE_OF_PAY_FROM', 'WAGE_UNIT_OF_PAY']]\\\n",
    "                    .apply(lambda x: rescale_wage(x['WAGE_RATE_OF_PAY_FROM'], x['WAGE_UNIT_OF_PAY']), axis=1)\n",
    "\n",
    "print(df_final['WAGE_RATE_OF_PAY_FROM'].head())\n",
    "print(df_final['PREVAILING_WAGE'].head())"
   ]
  },
  {
   "cell_type": "code",
   "execution_count": 11,
   "metadata": {},
   "outputs": [
    {
     "name": "stdout",
     "output_type": "stream",
     "text": [
      "<class 'pandas.core.frame.DataFrame'>\n",
      "Int64Index: 13060 entries, 184141 to 528112\n",
      "Data columns (total 27 columns):\n",
      "CASE_SUBMITTED_DAY       13060 non-null int64\n",
      "CASE_SUBMITTED_MONTH     13060 non-null int64\n",
      "CASE_SUBMITTED_YEAR      13060 non-null int64\n",
      "DECISION_DAY             13060 non-null int64\n",
      "DECISION_MONTH           13060 non-null int64\n",
      "DECISION_YEAR            13060 non-null int64\n",
      "VISA_CLASS               13060 non-null object\n",
      "EMPLOYER_NAME            13057 non-null object\n",
      "EMPLOYER_STATE           13060 non-null object\n",
      "EMPLOYER_COUNTRY         13060 non-null object\n",
      "SOC_NAME                 13060 non-null object\n",
      "NAICS_CODE               13058 non-null float64\n",
      "TOTAL_WORKERS            13060 non-null int64\n",
      "FULL_TIME_POSITION       13058 non-null object\n",
      "PREVAILING_WAGE          13060 non-null float64\n",
      "PW_UNIT_OF_PAY           13039 non-null object\n",
      "PW_SOURCE                13039 non-null object\n",
      "PW_SOURCE_YEAR           13040 non-null float64\n",
      "PW_SOURCE_OTHER          13060 non-null object\n",
      "WAGE_RATE_OF_PAY_FROM    13060 non-null float64\n",
      "WAGE_RATE_OF_PAY_TO      13060 non-null float64\n",
      "WAGE_UNIT_OF_PAY         13058 non-null object\n",
      "H-1B_DEPENDENT           13059 non-null object\n",
      "WILLFUL_VIOLATOR         13059 non-null object\n",
      "WORKSITE_STATE           13060 non-null object\n",
      "WORKSITE_POSTAL_CODE     13060 non-null object\n",
      "CASE_STATUS              13060 non-null object\n",
      "dtypes: float64(5), int64(7), object(15)\n",
      "memory usage: 2.8+ MB\n"
     ]
    }
   ],
   "source": [
    "#Check for null values and data types\n",
    "df_final.info()"
   ]
  },
  {
   "cell_type": "code",
   "execution_count": 12,
   "metadata": {},
   "outputs": [
    {
     "name": "stdout",
     "output_type": "stream",
     "text": [
      "(13060, 8)\n"
     ]
    }
   ],
   "source": [
    "#Remove unnecessary columns\n",
    "df_final = df_final.drop(columns=['EMPLOYER_COUNTRY', 'CASE_SUBMITTED_DAY', 'CASE_SUBMITTED_MONTH', 'CASE_SUBMITTED_YEAR',\n",
    "'DECISION_DAY', 'DECISION_MONTH', 'DECISION_YEAR', 'EMPLOYER_COUNTRY', 'NAICS_CODE', 'PW_UNIT_OF_PAY', 'PW_SOURCE',\n",
    "'PW_SOURCE_YEAR', 'PW_SOURCE_OTHER', 'WAGE_RATE_OF_PAY_TO', 'WILLFUL_VIOLATOR', 'WORKSITE_POSTAL_CODE',\n",
    "                            'EMPLOYER_STATE', 'VISA_CLASS', 'WORKSITE_STATE', 'WAGE_UNIT_OF_PAY'])\n",
    "print(df_final.shape)"
   ]
  },
  {
   "cell_type": "code",
   "execution_count": 13,
   "metadata": {},
   "outputs": [
    {
     "name": "stdout",
     "output_type": "stream",
     "text": [
      "<class 'pandas.core.frame.DataFrame'>\n",
      "Int64Index: 13054 entries, 184141 to 528112\n",
      "Data columns (total 8 columns):\n",
      "EMPLOYER_NAME            13054 non-null object\n",
      "SOC_NAME                 13054 non-null object\n",
      "TOTAL_WORKERS            13054 non-null int64\n",
      "FULL_TIME_POSITION       13054 non-null object\n",
      "PREVAILING_WAGE          13054 non-null float64\n",
      "WAGE_RATE_OF_PAY_FROM    13054 non-null float64\n",
      "H-1B_DEPENDENT           13054 non-null object\n",
      "CASE_STATUS              13054 non-null object\n",
      "dtypes: float64(2), int64(1), object(5)\n",
      "memory usage: 917.9+ KB\n"
     ]
    }
   ],
   "source": [
    "#Drop columns with null values\n",
    "df_final.dropna(inplace=True)\n",
    "df_final.info()"
   ]
  },
  {
   "cell_type": "code",
   "execution_count": 14,
   "metadata": {},
   "outputs": [
    {
     "data": {
      "text/plain": [
       "CERTIFIED    6834\n",
       "DENIED       6220\n",
       "Name: CASE_STATUS, dtype: int64"
      ]
     },
     "execution_count": 14,
     "metadata": {},
     "output_type": "execute_result"
    }
   ],
   "source": [
    "#final counts for each label\n",
    "df_final['CASE_STATUS'].value_counts()"
   ]
  },
  {
   "cell_type": "code",
   "execution_count": 15,
   "metadata": {},
   "outputs": [
    {
     "data": {
      "text/plain": [
       "<matplotlib.axes._subplots.AxesSubplot at 0x2033bb3e748>"
      ]
     },
     "execution_count": 15,
     "metadata": {},
     "output_type": "execute_result"
    },
    {
     "data": {
      "image/png": "[encoded data removed]",
      "text/plain": [
       "<Figure size 432x288 with 1 Axes>"
      ]
     },
     "metadata": {
      "needs_background": "light"
     },
     "output_type": "display_data"
    }
   ],
   "source": [
    "#Now data is balanced\n",
    "sns.countplot(df_final['CASE_STATUS'])"
   ]
  },
  {
   "cell_type": "code",
   "execution_count": 17,
   "metadata": {},
   "outputs": [],
   "source": [
    "#Adding new feature \"diff_wage_prevailing\" which is difference of privailing wage\n",
    "df_final['diff_wage_prevailing'] = df_final.apply(lambda x: abs(x['PREVAILING_WAGE'] - x['WAGE_RATE_OF_PAY_FROM']), axis=1)"
   ]
  },
  {
   "cell_type": "code",
   "execution_count": 18,
   "metadata": {},
   "outputs": [
    {
     "data": {
      "text/html": [
       "<div>\n",
       "<style scoped>\n",
       "    .dataframe tbody tr th:only-of-type {\n",
       "        vertical-align: middle;\n",
       "    }\n",
       "\n",
       "    .dataframe tbody tr th {\n",
       "        vertical-align: top;\n",
       "    }\n",
       "\n",
       "    .dataframe thead th {\n",
       "        text-align: right;\n",
       "    }\n",
       "</style>\n",
       "<table border=\"1\" class=\"dataframe\">\n",
       "  <thead>\n",
       "    <tr style=\"text-align: right;\">\n",
       "      <th></th>\n",
       "      <th>EMPLOYER_NAME</th>\n",
       "      <th>SOC_NAME</th>\n",
       "      <th>TOTAL_WORKERS</th>\n",
       "      <th>FULL_TIME_POSITION</th>\n",
       "      <th>PREVAILING_WAGE</th>\n",
       "      <th>WAGE_RATE_OF_PAY_FROM</th>\n",
       "      <th>H-1B_DEPENDENT</th>\n",
       "      <th>CASE_STATUS</th>\n",
       "      <th>diff_wage_prevailing</th>\n",
       "    </tr>\n",
       "  </thead>\n",
       "  <tbody>\n",
       "    <tr>\n",
       "      <th>184141</th>\n",
       "      <td>THOMSON REUTERS HOLDINGS INC</td>\n",
       "      <td>COMPUTER OCCUPATION</td>\n",
       "      <td>1</td>\n",
       "      <td>1</td>\n",
       "      <td>110219.0</td>\n",
       "      <td>115000.0</td>\n",
       "      <td>0</td>\n",
       "      <td>CERTIFIED</td>\n",
       "      <td>4781.0</td>\n",
       "    </tr>\n",
       "    <tr>\n",
       "      <th>490923</th>\n",
       "      <td>PAYPAL INC</td>\n",
       "      <td>COMPUTER OCCUPATION</td>\n",
       "      <td>1</td>\n",
       "      <td>1</td>\n",
       "      <td>129323.0</td>\n",
       "      <td>129323.0</td>\n",
       "      <td>0</td>\n",
       "      <td>CERTIFIED</td>\n",
       "      <td>0.0</td>\n",
       "    </tr>\n",
       "    <tr>\n",
       "      <th>277751</th>\n",
       "      <td>HRTRONIX LLC</td>\n",
       "      <td>COMPUTER OCCUPATION</td>\n",
       "      <td>5</td>\n",
       "      <td>1</td>\n",
       "      <td>48838.0</td>\n",
       "      <td>60000.0</td>\n",
       "      <td>0</td>\n",
       "      <td>CERTIFIED</td>\n",
       "      <td>11162.0</td>\n",
       "    </tr>\n",
       "    <tr>\n",
       "      <th>107933</th>\n",
       "      <td>AMERICAN EXPRESS TRAVEL RELATED SERVICES COMPA...</td>\n",
       "      <td>ANALYSTS</td>\n",
       "      <td>1</td>\n",
       "      <td>1</td>\n",
       "      <td>90813.0</td>\n",
       "      <td>95000.0</td>\n",
       "      <td>0</td>\n",
       "      <td>CERTIFIED</td>\n",
       "      <td>4187.0</td>\n",
       "    </tr>\n",
       "    <tr>\n",
       "      <th>520727</th>\n",
       "      <td>NOBLE RESEARCH INSTITUTE LLC</td>\n",
       "      <td>COMPUTER OCCUPATION</td>\n",
       "      <td>1</td>\n",
       "      <td>1</td>\n",
       "      <td>38043.0</td>\n",
       "      <td>38043.0</td>\n",
       "      <td>0</td>\n",
       "      <td>CERTIFIED</td>\n",
       "      <td>0.0</td>\n",
       "    </tr>\n",
       "  </tbody>\n",
       "</table>\n",
       "</div>"
      ],
      "text/plain": [
       "                                            EMPLOYER_NAME  \\\n",
       "184141                       THOMSON REUTERS HOLDINGS INC   \n",
       "490923                                         PAYPAL INC   \n",
       "277751                                       HRTRONIX LLC   \n",
       "107933  AMERICAN EXPRESS TRAVEL RELATED SERVICES COMPA...   \n",
       "520727                       NOBLE RESEARCH INSTITUTE LLC   \n",
       "\n",
       "                   SOC_NAME  TOTAL_WORKERS  FULL_TIME_POSITION  \\\n",
       "184141  COMPUTER OCCUPATION              1                   1   \n",
       "490923  COMPUTER OCCUPATION              1                   1   \n",
       "277751  COMPUTER OCCUPATION              5                   1   \n",
       "107933             ANALYSTS              1                   1   \n",
       "520727  COMPUTER OCCUPATION              1                   1   \n",
       "\n",
       "        PREVAILING_WAGE  WAGE_RATE_OF_PAY_FROM  H-1B_DEPENDENT CASE_STATUS  \\\n",
       "184141         110219.0               115000.0               0   CERTIFIED   \n",
       "490923         129323.0               129323.0               0   CERTIFIED   \n",
       "277751          48838.0                60000.0               0   CERTIFIED   \n",
       "107933          90813.0                95000.0               0   CERTIFIED   \n",
       "520727          38043.0                38043.0               0   CERTIFIED   \n",
       "\n",
       "        diff_wage_prevailing  \n",
       "184141                4781.0  \n",
       "490923                   0.0  \n",
       "277751               11162.0  \n",
       "107933                4187.0  \n",
       "520727                   0.0  "
      ]
     },
     "execution_count": 18,
     "metadata": {},
     "output_type": "execute_result"
    }
   ],
   "source": [
    "#Converting binary labels into 1 and 0\n",
    "df_final.replace({'FULL_TIME_POSITION' : { 'Y' : 1, 'N' : 0}}, inplace=True)\n",
    "df_final.replace({'H-1B_DEPENDENT' : { 'Y' : 1, 'N' : 0}}, inplace=True)\n",
    "df_final.head()"
   ]
  },
  {
   "cell_type": "code",
   "execution_count": 19,
   "metadata": {},
   "outputs": [
    {
     "name": "stdout",
     "output_type": "stream",
     "text": [
      "                                            EMPLOYER_NAME  \\\n",
      "184141                       THOMSON REUTERS HOLDINGS INC   \n",
      "490923                                         PAYPAL INC   \n",
      "277751                                       HRTRONIX LLC   \n",
      "107933  AMERICAN EXPRESS TRAVEL RELATED SERVICES COMPA...   \n",
      "520727                       NOBLE RESEARCH INSTITUTE LLC   \n",
      "\n",
      "                   SOC_NAME  TOTAL_WORKERS  FULL_TIME_POSITION  \\\n",
      "184141  COMPUTER OCCUPATION              1                   1   \n",
      "490923  COMPUTER OCCUPATION              1                   1   \n",
      "277751  COMPUTER OCCUPATION              5                   1   \n",
      "107933             ANALYSTS              1                   1   \n",
      "520727  COMPUTER OCCUPATION              1                   1   \n",
      "\n",
      "        PREVAILING_WAGE  WAGE_RATE_OF_PAY_FROM  H-1B_DEPENDENT CASE_STATUS  \\\n",
      "184141         110219.0               115000.0               0   CERTIFIED   \n",
      "490923         129323.0               129323.0               0   CERTIFIED   \n",
      "277751          48838.0                60000.0               0   CERTIFIED   \n",
      "107933          90813.0                95000.0               0   CERTIFIED   \n",
      "520727          38043.0                38043.0               0   CERTIFIED   \n",
      "\n",
      "        diff_wage_prevailing  \n",
      "184141                4781.0  \n",
      "490923                   0.0  \n",
      "277751               11162.0  \n",
      "107933                4187.0  \n",
      "520727                   0.0  \n"
     ]
    }
   ],
   "source": [
    "#Removing Outliers from the dataset\n",
    "df_outl = df_final[df_final.PREVAILING_WAGE < 150000]\n",
    "df_outl = df_outl[df_outl.WAGE_RATE_OF_PAY_FROM < 150000]\n",
    "sorted(df_outl['PREVAILING_WAGE'], reverse=True)\n",
    "print(df_outl.head())"
   ]
  },
  {
   "cell_type": "code",
   "execution_count": 20,
   "metadata": {},
   "outputs": [],
   "source": [
    "#Seperating \"Label\" from the data\n",
    "X = df_outl.drop(columns = ['CASE_STATUS'])\n",
    "y = df_outl['CASE_STATUS']"
   ]
  },
  {
   "cell_type": "code",
   "execution_count": 21,
   "metadata": {},
   "outputs": [
    {
     "data": {
      "text/html": [
       "<div>\n",
       "<style scoped>\n",
       "    .dataframe tbody tr th:only-of-type {\n",
       "        vertical-align: middle;\n",
       "    }\n",
       "\n",
       "    .dataframe tbody tr th {\n",
       "        vertical-align: top;\n",
       "    }\n",
       "\n",
       "    .dataframe thead th {\n",
       "        text-align: right;\n",
       "    }\n",
       "</style>\n",
       "<table border=\"1\" class=\"dataframe\">\n",
       "  <thead>\n",
       "    <tr style=\"text-align: right;\">\n",
       "      <th></th>\n",
       "      <th>TOTAL_WORKERS</th>\n",
       "      <th>FULL_TIME_POSITION</th>\n",
       "      <th>PREVAILING_WAGE</th>\n",
       "      <th>WAGE_RATE_OF_PAY_FROM</th>\n",
       "      <th>H-1B_DEPENDENT</th>\n",
       "      <th>diff_wage_prevailing</th>\n",
       "      <th>EMPLOYER_NAME_1199 SEIU UNITED HEALTHCARE WORKERS EAST</th>\n",
       "      <th>EMPLOYER_NAME_14 W ADMINISTRATIVE SERVICES LLC</th>\n",
       "      <th>EMPLOYER_NAME_18|8 SOLUTIONS INC</th>\n",
       "      <th>EMPLOYER_NAME_1A DISTRIBUTION INC</th>\n",
       "      <th>...</th>\n",
       "      <th>SOC_NAME_PUBLIC RELATIONS</th>\n",
       "      <th>SOC_NAME_REAL ESTATE</th>\n",
       "      <th>SOC_NAME_RELIGIOUS WORKERS</th>\n",
       "      <th>SOC_NAME_REPORTERS AND CORRESPONDENTS</th>\n",
       "      <th>SOC_NAME_SALES AND RELATED WORKERS</th>\n",
       "      <th>SOC_NAME_SCIENTIST</th>\n",
       "      <th>SOC_NAME_SOCIAL WORKERS</th>\n",
       "      <th>SOC_NAME_SURVEYORS</th>\n",
       "      <th>SOC_NAME_TRANSPORTATION</th>\n",
       "      <th>SOC_NAME_WRITERS EDITORS AND AUTHORS</th>\n",
       "    </tr>\n",
       "  </thead>\n",
       "  <tbody>\n",
       "    <tr>\n",
       "      <th>184141</th>\n",
       "      <td>1</td>\n",
       "      <td>1</td>\n",
       "      <td>110219.0</td>\n",
       "      <td>115000.0</td>\n",
       "      <td>0</td>\n",
       "      <td>4781.0</td>\n",
       "      <td>0</td>\n",
       "      <td>0</td>\n",
       "      <td>0</td>\n",
       "      <td>0</td>\n",
       "      <td>...</td>\n",
       "      <td>0</td>\n",
       "      <td>0</td>\n",
       "      <td>0</td>\n",
       "      <td>0</td>\n",
       "      <td>0</td>\n",
       "      <td>0</td>\n",
       "      <td>0</td>\n",
       "      <td>0</td>\n",
       "      <td>0</td>\n",
       "      <td>0</td>\n",
       "    </tr>\n",
       "    <tr>\n",
       "      <th>490923</th>\n",
       "      <td>1</td>\n",
       "      <td>1</td>\n",
       "      <td>129323.0</td>\n",
       "      <td>129323.0</td>\n",
       "      <td>0</td>\n",
       "      <td>0.0</td>\n",
       "      <td>0</td>\n",
       "      <td>0</td>\n",
       "      <td>0</td>\n",
       "      <td>0</td>\n",
       "      <td>...</td>\n",
       "      <td>0</td>\n",
       "      <td>0</td>\n",
       "      <td>0</td>\n",
       "      <td>0</td>\n",
       "      <td>0</td>\n",
       "      <td>0</td>\n",
       "      <td>0</td>\n",
       "      <td>0</td>\n",
       "      <td>0</td>\n",
       "      <td>0</td>\n",
       "    </tr>\n",
       "    <tr>\n",
       "      <th>277751</th>\n",
       "      <td>5</td>\n",
       "      <td>1</td>\n",
       "      <td>48838.0</td>\n",
       "      <td>60000.0</td>\n",
       "      <td>0</td>\n",
       "      <td>11162.0</td>\n",
       "      <td>0</td>\n",
       "      <td>0</td>\n",
       "      <td>0</td>\n",
       "      <td>0</td>\n",
       "      <td>...</td>\n",
       "      <td>0</td>\n",
       "      <td>0</td>\n",
       "      <td>0</td>\n",
       "      <td>0</td>\n",
       "      <td>0</td>\n",
       "      <td>0</td>\n",
       "      <td>0</td>\n",
       "      <td>0</td>\n",
       "      <td>0</td>\n",
       "      <td>0</td>\n",
       "    </tr>\n",
       "    <tr>\n",
       "      <th>107933</th>\n",
       "      <td>1</td>\n",
       "      <td>1</td>\n",
       "      <td>90813.0</td>\n",
       "      <td>95000.0</td>\n",
       "      <td>0</td>\n",
       "      <td>4187.0</td>\n",
       "      <td>0</td>\n",
       "      <td>0</td>\n",
       "      <td>0</td>\n",
       "      <td>0</td>\n",
       "      <td>...</td>\n",
       "      <td>0</td>\n",
       "      <td>0</td>\n",
       "      <td>0</td>\n",
       "      <td>0</td>\n",
       "      <td>0</td>\n",
       "      <td>0</td>\n",
       "      <td>0</td>\n",
       "      <td>0</td>\n",
       "      <td>0</td>\n",
       "      <td>0</td>\n",
       "    </tr>\n",
       "    <tr>\n",
       "      <th>520727</th>\n",
       "      <td>1</td>\n",
       "      <td>1</td>\n",
       "      <td>38043.0</td>\n",
       "      <td>38043.0</td>\n",
       "      <td>0</td>\n",
       "      <td>0.0</td>\n",
       "      <td>0</td>\n",
       "      <td>0</td>\n",
       "      <td>0</td>\n",
       "      <td>0</td>\n",
       "      <td>...</td>\n",
       "      <td>0</td>\n",
       "      <td>0</td>\n",
       "      <td>0</td>\n",
       "      <td>0</td>\n",
       "      <td>0</td>\n",
       "      <td>0</td>\n",
       "      <td>0</td>\n",
       "      <td>0</td>\n",
       "      <td>0</td>\n",
       "      <td>0</td>\n",
       "    </tr>\n",
       "  </tbody>\n",
       "</table>\n",
       "<p>5 rows × 6712 columns</p>\n",
       "</div>"
      ],
      "text/plain": [
       "        TOTAL_WORKERS  FULL_TIME_POSITION  PREVAILING_WAGE  \\\n",
       "184141              1                   1         110219.0   \n",
       "490923              1                   1         129323.0   \n",
       "277751              5                   1          48838.0   \n",
       "107933              1                   1          90813.0   \n",
       "520727              1                   1          38043.0   \n",
       "\n",
       "        WAGE_RATE_OF_PAY_FROM  H-1B_DEPENDENT  diff_wage_prevailing  \\\n",
       "184141               115000.0               0                4781.0   \n",
       "490923               129323.0               0                   0.0   \n",
       "277751                60000.0               0               11162.0   \n",
       "107933                95000.0               0                4187.0   \n",
       "520727                38043.0               0                   0.0   \n",
       "\n",
       "        EMPLOYER_NAME_1199 SEIU UNITED HEALTHCARE WORKERS EAST  \\\n",
       "184141                                                  0        \n",
       "490923                                                  0        \n",
       "277751                                                  0        \n",
       "107933                                                  0        \n",
       "520727                                                  0        \n",
       "\n",
       "        EMPLOYER_NAME_14 W ADMINISTRATIVE SERVICES LLC  \\\n",
       "184141                                               0   \n",
       "490923                                               0   \n",
       "277751                                               0   \n",
       "107933                                               0   \n",
       "520727                                               0   \n",
       "\n",
       "        EMPLOYER_NAME_18|8 SOLUTIONS INC  EMPLOYER_NAME_1A DISTRIBUTION INC  \\\n",
       "184141                                 0                                  0   \n",
       "490923                                 0                                  0   \n",
       "277751                                 0                                  0   \n",
       "107933                                 0                                  0   \n",
       "520727                                 0                                  0   \n",
       "\n",
       "                        ...                   SOC_NAME_PUBLIC RELATIONS  \\\n",
       "184141                  ...                                           0   \n",
       "490923                  ...                                           0   \n",
       "277751                  ...                                           0   \n",
       "107933                  ...                                           0   \n",
       "520727                  ...                                           0   \n",
       "\n",
       "        SOC_NAME_REAL ESTATE  SOC_NAME_RELIGIOUS WORKERS  \\\n",
       "184141                     0                           0   \n",
       "490923                     0                           0   \n",
       "277751                     0                           0   \n",
       "107933                     0                           0   \n",
       "520727                     0                           0   \n",
       "\n",
       "        SOC_NAME_REPORTERS AND CORRESPONDENTS  \\\n",
       "184141                                      0   \n",
       "490923                                      0   \n",
       "277751                                      0   \n",
       "107933                                      0   \n",
       "520727                                      0   \n",
       "\n",
       "        SOC_NAME_SALES AND RELATED WORKERS  SOC_NAME_SCIENTIST  \\\n",
       "184141                                   0                   0   \n",
       "490923                                   0                   0   \n",
       "277751                                   0                   0   \n",
       "107933                                   0                   0   \n",
       "520727                                   0                   0   \n",
       "\n",
       "        SOC_NAME_SOCIAL WORKERS  SOC_NAME_SURVEYORS  SOC_NAME_TRANSPORTATION  \\\n",
       "184141                        0                   0                        0   \n",
       "490923                        0                   0                        0   \n",
       "277751                        0                   0                        0   \n",
       "107933                        0                   0                        0   \n",
       "520727                        0                   0                        0   \n",
       "\n",
       "        SOC_NAME_WRITERS EDITORS AND AUTHORS  \n",
       "184141                                     0  \n",
       "490923                                     0  \n",
       "277751                                     0  \n",
       "107933                                     0  \n",
       "520727                                     0  \n",
       "\n",
       "[5 rows x 6712 columns]"
      ]
     },
     "execution_count": 21,
     "metadata": {},
     "output_type": "execute_result"
    }
   ],
   "source": [
    "#Applying One-Hot Encoding\n",
    "X_encoded = pd.get_dummies(X)\n",
    "X_encoded.head()"
   ]
  },
  {
   "cell_type": "code",
   "execution_count": 22,
   "metadata": {},
   "outputs": [
    {
     "data": {
      "text/plain": [
       "<matplotlib.axes._subplots.AxesSubplot at 0x2033bb66fd0>"
      ]
     },
     "execution_count": 22,
     "metadata": {},
     "output_type": "execute_result"
    },
    {
     "data": {
      "image/png": "[encoded data removed]",
      "text/plain": [
       "<Figure size 432x288 with 1 Axes>"
      ]
     },
     "metadata": {
      "needs_background": "light"
     },
     "output_type": "display_data"
    }
   ],
   "source": [
    "#Checking for Outliers\n",
    "sns.boxplot(X_encoded['WAGE_RATE_OF_PAY_FROM'])"
   ]
  },
  {
   "cell_type": "code",
   "execution_count": 23,
   "metadata": {},
   "outputs": [
    {
     "name": "stderr",
     "output_type": "stream",
     "text": [
      "C:\\Users\\user\\Anaconda3\\lib\\site-packages\\sklearn\\preprocessing\\data.py:323: DataConversionWarning: Data with input dtype uint8, int64, float64 were all converted to float64 by MinMaxScaler.\n",
      "  return self.partial_fit(X, y)\n"
     ]
    },
    {
     "name": "stdout",
     "output_type": "stream",
     "text": [
      "(12343, 6712)\n"
     ]
    },
    {
     "data": {
      "text/html": [
       "<div>\n",
       "<style scoped>\n",
       "    .dataframe tbody tr th:only-of-type {\n",
       "        vertical-align: middle;\n",
       "    }\n",
       "\n",
       "    .dataframe tbody tr th {\n",
       "        vertical-align: top;\n",
       "    }\n",
       "\n",
       "    .dataframe thead th {\n",
       "        text-align: right;\n",
       "    }\n",
       "</style>\n",
       "<table border=\"1\" class=\"dataframe\">\n",
       "  <thead>\n",
       "    <tr style=\"text-align: right;\">\n",
       "      <th></th>\n",
       "      <th>TOTAL_WORKERS</th>\n",
       "      <th>FULL_TIME_POSITION</th>\n",
       "      <th>PREVAILING_WAGE</th>\n",
       "      <th>WAGE_RATE_OF_PAY_FROM</th>\n",
       "      <th>H-1B_DEPENDENT</th>\n",
       "      <th>diff_wage_prevailing</th>\n",
       "      <th>EMPLOYER_NAME_1199 SEIU UNITED HEALTHCARE WORKERS EAST</th>\n",
       "      <th>EMPLOYER_NAME_14 W ADMINISTRATIVE SERVICES LLC</th>\n",
       "      <th>EMPLOYER_NAME_18|8 SOLUTIONS INC</th>\n",
       "      <th>EMPLOYER_NAME_1A DISTRIBUTION INC</th>\n",
       "      <th>...</th>\n",
       "      <th>SOC_NAME_PUBLIC RELATIONS</th>\n",
       "      <th>SOC_NAME_REAL ESTATE</th>\n",
       "      <th>SOC_NAME_RELIGIOUS WORKERS</th>\n",
       "      <th>SOC_NAME_REPORTERS AND CORRESPONDENTS</th>\n",
       "      <th>SOC_NAME_SALES AND RELATED WORKERS</th>\n",
       "      <th>SOC_NAME_SCIENTIST</th>\n",
       "      <th>SOC_NAME_SOCIAL WORKERS</th>\n",
       "      <th>SOC_NAME_SURVEYORS</th>\n",
       "      <th>SOC_NAME_TRANSPORTATION</th>\n",
       "      <th>SOC_NAME_WRITERS EDITORS AND AUTHORS</th>\n",
       "    </tr>\n",
       "  </thead>\n",
       "  <tbody>\n",
       "    <tr>\n",
       "      <th>12338</th>\n",
       "      <td>0.0</td>\n",
       "      <td>1.0</td>\n",
       "      <td>0.519399</td>\n",
       "      <td>0.566709</td>\n",
       "      <td>1.0</td>\n",
       "      <td>0.055882</td>\n",
       "      <td>0.0</td>\n",
       "      <td>0.0</td>\n",
       "      <td>0.0</td>\n",
       "      <td>0.0</td>\n",
       "      <td>...</td>\n",
       "      <td>0.0</td>\n",
       "      <td>0.0</td>\n",
       "      <td>0.0</td>\n",
       "      <td>0.0</td>\n",
       "      <td>0.0</td>\n",
       "      <td>1.0</td>\n",
       "      <td>0.0</td>\n",
       "      <td>0.0</td>\n",
       "      <td>0.0</td>\n",
       "      <td>0.0</td>\n",
       "    </tr>\n",
       "    <tr>\n",
       "      <th>12339</th>\n",
       "      <td>0.0</td>\n",
       "      <td>1.0</td>\n",
       "      <td>0.510079</td>\n",
       "      <td>0.508665</td>\n",
       "      <td>0.0</td>\n",
       "      <td>0.000000</td>\n",
       "      <td>0.0</td>\n",
       "      <td>0.0</td>\n",
       "      <td>0.0</td>\n",
       "      <td>0.0</td>\n",
       "      <td>...</td>\n",
       "      <td>0.0</td>\n",
       "      <td>0.0</td>\n",
       "      <td>0.0</td>\n",
       "      <td>0.0</td>\n",
       "      <td>0.0</td>\n",
       "      <td>0.0</td>\n",
       "      <td>0.0</td>\n",
       "      <td>0.0</td>\n",
       "      <td>0.0</td>\n",
       "      <td>0.0</td>\n",
       "    </tr>\n",
       "    <tr>\n",
       "      <th>12340</th>\n",
       "      <td>0.0</td>\n",
       "      <td>1.0</td>\n",
       "      <td>0.299680</td>\n",
       "      <td>0.298849</td>\n",
       "      <td>0.0</td>\n",
       "      <td>0.000000</td>\n",
       "      <td>0.0</td>\n",
       "      <td>0.0</td>\n",
       "      <td>0.0</td>\n",
       "      <td>0.0</td>\n",
       "      <td>...</td>\n",
       "      <td>0.0</td>\n",
       "      <td>0.0</td>\n",
       "      <td>0.0</td>\n",
       "      <td>0.0</td>\n",
       "      <td>0.0</td>\n",
       "      <td>0.0</td>\n",
       "      <td>0.0</td>\n",
       "      <td>0.0</td>\n",
       "      <td>0.0</td>\n",
       "      <td>0.0</td>\n",
       "    </tr>\n",
       "    <tr>\n",
       "      <th>12341</th>\n",
       "      <td>0.0</td>\n",
       "      <td>1.0</td>\n",
       "      <td>0.610899</td>\n",
       "      <td>0.604125</td>\n",
       "      <td>1.0</td>\n",
       "      <td>0.005824</td>\n",
       "      <td>0.0</td>\n",
       "      <td>0.0</td>\n",
       "      <td>0.0</td>\n",
       "      <td>0.0</td>\n",
       "      <td>...</td>\n",
       "      <td>0.0</td>\n",
       "      <td>0.0</td>\n",
       "      <td>0.0</td>\n",
       "      <td>0.0</td>\n",
       "      <td>0.0</td>\n",
       "      <td>0.0</td>\n",
       "      <td>0.0</td>\n",
       "      <td>0.0</td>\n",
       "      <td>0.0</td>\n",
       "      <td>0.0</td>\n",
       "    </tr>\n",
       "    <tr>\n",
       "      <th>12342</th>\n",
       "      <td>0.0</td>\n",
       "      <td>1.0</td>\n",
       "      <td>0.509577</td>\n",
       "      <td>0.510038</td>\n",
       "      <td>0.0</td>\n",
       "      <td>0.002148</td>\n",
       "      <td>0.0</td>\n",
       "      <td>0.0</td>\n",
       "      <td>0.0</td>\n",
       "      <td>0.0</td>\n",
       "      <td>...</td>\n",
       "      <td>0.0</td>\n",
       "      <td>0.0</td>\n",
       "      <td>0.0</td>\n",
       "      <td>0.0</td>\n",
       "      <td>0.0</td>\n",
       "      <td>0.0</td>\n",
       "      <td>0.0</td>\n",
       "      <td>0.0</td>\n",
       "      <td>0.0</td>\n",
       "      <td>0.0</td>\n",
       "    </tr>\n",
       "  </tbody>\n",
       "</table>\n",
       "<p>5 rows × 6712 columns</p>\n",
       "</div>"
      ],
      "text/plain": [
       "       TOTAL_WORKERS  FULL_TIME_POSITION  PREVAILING_WAGE  \\\n",
       "12338            0.0                 1.0         0.519399   \n",
       "12339            0.0                 1.0         0.510079   \n",
       "12340            0.0                 1.0         0.299680   \n",
       "12341            0.0                 1.0         0.610899   \n",
       "12342            0.0                 1.0         0.509577   \n",
       "\n",
       "       WAGE_RATE_OF_PAY_FROM  H-1B_DEPENDENT  diff_wage_prevailing  \\\n",
       "12338               0.566709             1.0              0.055882   \n",
       "12339               0.508665             0.0              0.000000   \n",
       "12340               0.298849             0.0              0.000000   \n",
       "12341               0.604125             1.0              0.005824   \n",
       "12342               0.510038             0.0              0.002148   \n",
       "\n",
       "       EMPLOYER_NAME_1199 SEIU UNITED HEALTHCARE WORKERS EAST  \\\n",
       "12338                                                0.0        \n",
       "12339                                                0.0        \n",
       "12340                                                0.0        \n",
       "12341                                                0.0        \n",
       "12342                                                0.0        \n",
       "\n",
       "       EMPLOYER_NAME_14 W ADMINISTRATIVE SERVICES LLC  \\\n",
       "12338                                             0.0   \n",
       "12339                                             0.0   \n",
       "12340                                             0.0   \n",
       "12341                                             0.0   \n",
       "12342                                             0.0   \n",
       "\n",
       "       EMPLOYER_NAME_18|8 SOLUTIONS INC  EMPLOYER_NAME_1A DISTRIBUTION INC  \\\n",
       "12338                               0.0                                0.0   \n",
       "12339                               0.0                                0.0   \n",
       "12340                               0.0                                0.0   \n",
       "12341                               0.0                                0.0   \n",
       "12342                               0.0                                0.0   \n",
       "\n",
       "                       ...                   SOC_NAME_PUBLIC RELATIONS  \\\n",
       "12338                  ...                                         0.0   \n",
       "12339                  ...                                         0.0   \n",
       "12340                  ...                                         0.0   \n",
       "12341                  ...                                         0.0   \n",
       "12342                  ...                                         0.0   \n",
       "\n",
       "       SOC_NAME_REAL ESTATE  SOC_NAME_RELIGIOUS WORKERS  \\\n",
       "12338                   0.0                         0.0   \n",
       "12339                   0.0                         0.0   \n",
       "12340                   0.0                         0.0   \n",
       "12341                   0.0                         0.0   \n",
       "12342                   0.0                         0.0   \n",
       "\n",
       "       SOC_NAME_REPORTERS AND CORRESPONDENTS  \\\n",
       "12338                                    0.0   \n",
       "12339                                    0.0   \n",
       "12340                                    0.0   \n",
       "12341                                    0.0   \n",
       "12342                                    0.0   \n",
       "\n",
       "       SOC_NAME_SALES AND RELATED WORKERS  SOC_NAME_SCIENTIST  \\\n",
       "12338                                 0.0                 1.0   \n",
       "12339                                 0.0                 0.0   \n",
       "12340                                 0.0                 0.0   \n",
       "12341                                 0.0                 0.0   \n",
       "12342                                 0.0                 0.0   \n",
       "\n",
       "       SOC_NAME_SOCIAL WORKERS  SOC_NAME_SURVEYORS  SOC_NAME_TRANSPORTATION  \\\n",
       "12338                      0.0                 0.0                      0.0   \n",
       "12339                      0.0                 0.0                      0.0   \n",
       "12340                      0.0                 0.0                      0.0   \n",
       "12341                      0.0                 0.0                      0.0   \n",
       "12342                      0.0                 0.0                      0.0   \n",
       "\n",
       "       SOC_NAME_WRITERS EDITORS AND AUTHORS  \n",
       "12338                                   0.0  \n",
       "12339                                   0.0  \n",
       "12340                                   0.0  \n",
       "12341                                   0.0  \n",
       "12342                                   0.0  \n",
       "\n",
       "[5 rows x 6712 columns]"
      ]
     },
     "execution_count": 23,
     "metadata": {},
     "output_type": "execute_result"
    }
   ],
   "source": [
    "#Applying Min-Max normalization\n",
    "x_transformed = MinMaxScaler().fit_transform(X_encoded)\n",
    "\n",
    "#Creating Final Dataset\n",
    "df_trans = pd.DataFrame(x_transformed, columns=X_encoded.columns)\n",
    "print(df_trans.shape)\n",
    "df_trans.tail()"
   ]
  },
  {
   "cell_type": "code",
   "execution_count": 24,
   "metadata": {},
   "outputs": [
    {
     "name": "stdout",
     "output_type": "stream",
     "text": [
      "(8640, 6712)\n",
      "(3703, 6712)\n"
     ]
    }
   ],
   "source": [
    "#Spliting the Data into 70% Training and 30% Testing\n",
    "X_train, X_test, y_train, y_test = train_test_split(df_trans, y, random_state=0, test_size=0.3)\n",
    "print(X_train.shape)\n",
    "print(X_test.shape)"
   ]
  },
  {
   "cell_type": "markdown",
   "metadata": {},
   "source": [
    "### Feature Importance using RandomForests"
   ]
  },
  {
   "cell_type": "code",
   "execution_count": 26,
   "metadata": {},
   "outputs": [
    {
     "data": {
      "text/plain": [
       "array([0.0860189 , 0.08537126, 0.071914  , 0.06139836, 0.05471018,\n",
       "       0.03369251, 0.02597134, 0.015267  , 0.01427692, 0.01280908,\n",
       "       0.01196142, 0.01140191, 0.00665865, 0.00632226, 0.00499345,\n",
       "       0.00488887, 0.00488298, 0.0047537 , 0.00470851, 0.00440024])"
      ]
     },
     "execution_count": 26,
     "metadata": {},
     "output_type": "execute_result"
    }
   ],
   "source": [
    "#Feature importance using RandomForests (generating 100 trees)\n",
    "rf_clf = RandomForestClassifier(n_estimators = 100, n_jobs=-1, random_state=42)\n",
    "rf_clf.fit(X_train, y_train)\n",
    "\n",
    "#Extracting Features and importance\n",
    "features = X_train.columns\n",
    "importances = rf_clf.feature_importances_\n",
    "\n",
    "indices = np.argsort(importances)[::-1][:20]\n",
    "indices200 = np.argsort(importances)[::-1][:200]\n",
    "\n",
    "#Showing top 20 features' importance\n",
    "importances[indices]"
   ]
  },
  {
   "cell_type": "code",
   "execution_count": 29,
   "metadata": {},
   "outputs": [
    {
     "data": {
      "image/png": "[encoded data removed]",
      "text/plain": [
       "<Figure size 432x288 with 1 Axes>"
      ]
     },
     "metadata": {
      "needs_background": "light"
     },
     "output_type": "display_data"
    }
   ],
   "source": [
    "#Extracting Features\n",
    "feat_labels = X_encoded.columns\n",
    "imp_features = []\n",
    "imp_features_200 = []\n",
    "\n",
    "# top 20 features only for plotting purpose\n",
    "for feature_list_index in indices:\n",
    "    imp_features.append(feat_labels[feature_list_index])\n",
    "    \n",
    "# top 200 features for modeling purpose\n",
    "for feature_list_index in indices200:\n",
    "    imp_features_200.append(feat_labels[feature_list_index])\n",
    "\n",
    "#Ploting the Feature Importance Graph of 20 features\n",
    "plt.title('Feature Importances')\n",
    "plt.barh(range(len(indices)), importances[indices], color='b', align='center')\n",
    "plt.yticks(range(len(indices)), [features[i] for i in indices])\n",
    "plt.xlabel('Relative Importance')\n",
    "plt.show()"
   ]
  },
  {
   "cell_type": "code",
   "execution_count": 45,
   "metadata": {},
   "outputs": [
    {
     "name": "stdout",
     "output_type": "stream",
     "text": [
      "(8640, 200)\n",
      "(3703, 200)\n"
     ]
    }
   ],
   "source": [
    "#Generating New Training and Testing Data and Label of 200 Important Features only\n",
    "X_imp_train = X_train[imp_features_200]\n",
    "X_imp_test = X_test[imp_features_200]\n",
    "print(X_imp_train.shape)\n",
    "print(X_imp_test.shape)"
   ]
  },
  {
   "cell_type": "markdown",
   "metadata": {},
   "source": [
    "### Applying models"
   ]
  },
  {
   "cell_type": "code",
   "execution_count": 31,
   "metadata": {},
   "outputs": [],
   "source": [
    "#Generic Function for Plotting the Graph\n",
    "def plotauc(fpr,tpr,title):\n",
    "    plt.figure();\n",
    "    plt.plot(fpr, tpr, color='darkorange', lw=2);\n",
    "    plt.plot([0, 1], [0, 1], color='navy', lw=2, linestyle='--');\n",
    "    plt.xlim([0.0, 1.0]);\n",
    "    plt.ylim([0.0, 1.05]);\n",
    "    plt.xlabel('False Positive Rate');\n",
    "    plt.ylabel('True Positive Rate');\n",
    "    plt.title(title);\n",
    "    plt.show();"
   ]
  },
  {
   "cell_type": "code",
   "execution_count": 32,
   "metadata": {},
   "outputs": [],
   "source": [
    "#Dictionary for converting labels into 1 and 0 for finding AUC(Area Under the Curve)\n",
    "d = {'CERTIFIED': 1, 'DENIED': 0}"
   ]
  },
  {
   "cell_type": "markdown",
   "metadata": {},
   "source": [
    "### 1) Random Forest"
   ]
  },
  {
   "cell_type": "code",
   "execution_count": 33,
   "metadata": {},
   "outputs": [
    {
     "name": "stdout",
     "output_type": "stream",
     "text": [
      "              precision    recall  f1-score   support\n",
      "\n",
      "   CERTIFIED       0.80      0.86      0.83      1915\n",
      "      DENIED       0.84      0.77      0.80      1788\n",
      "\n",
      "   micro avg       0.82      0.82      0.82      3703\n",
      "   macro avg       0.82      0.81      0.81      3703\n",
      "weighted avg       0.82      0.82      0.81      3703\n",
      "\n",
      "\n",
      "\n",
      "Accuracy :  0.8155549554415339\n",
      "AUC :  0.8910989129736392\n"
     ]
    },
    {
     "data": {
      "image/png": "[encoded data removed]",
      "text/plain": [
       "<Figure size 432x288 with 1 Axes>"
      ]
     },
     "metadata": {
      "needs_background": "light"
     },
     "output_type": "display_data"
    }
   ],
   "source": [
    "#Using all features\n",
    "clf_rf = RandomForestClassifier(n_estimators=100)\n",
    "clf_fit = clf_rf.fit(X_train, y_train) \n",
    "preds = clf_fit.predict(X_test)\n",
    "\n",
    "#Printing Classification report and Accuracy\n",
    "print(cr(y_test, preds))\n",
    "print(\"\\n\")\n",
    "print(\"Accuracy : \",accu(y_test, preds))\n",
    "\n",
    "#Calculating auc\n",
    "y_test_auc = [d[item] for item in y_test]\n",
    "preds_auc=clf_fit.predict_proba(X_test) \n",
    "preds_auc = preds_auc[:,0]\n",
    "fpr, tpr, thresholds = roc_curve(y_test_auc,preds_auc,pos_label=1)\n",
    "print(\"AUC : \",auc(fpr, tpr))\n",
    "plotauc(fpr,tpr,\"AUC of Random Forest Mdoel (All Features)\")"
   ]
  },
  {
   "cell_type": "code",
   "execution_count": 34,
   "metadata": {},
   "outputs": [
    {
     "name": "stdout",
     "output_type": "stream",
     "text": [
      "              precision    recall  f1-score   support\n",
      "\n",
      "   CERTIFIED       0.80      0.83      0.81      1915\n",
      "      DENIED       0.81      0.78      0.79      1788\n",
      "\n",
      "   micro avg       0.80      0.80      0.80      3703\n",
      "   macro avg       0.80      0.80      0.80      3703\n",
      "weighted avg       0.80      0.80      0.80      3703\n",
      "\n",
      "\n",
      "\n",
      "Accuracy :  0.8042128004320821\n",
      "AUC :  0.8754374974445243\n"
     ]
    },
    {
     "data": {
      "image/png": "[encoded data removed]",
      "text/plain": [
       "<Figure size 432x288 with 1 Axes>"
      ]
     },
     "metadata": {
      "needs_background": "light"
     },
     "output_type": "display_data"
    }
   ],
   "source": [
    "#Using Important Features only\n",
    "clf_rf = RandomForestClassifier(n_estimators=100)\n",
    "clf_fit = clf_rf.fit(X_imp_train, y_train) \n",
    "preds = clf_fit.predict(X_imp_test)\n",
    "\n",
    "#Printing Classification report and Accuracy\n",
    "print(cr(y_test, preds))\n",
    "print(\"\\n\")\n",
    "print(\"Accuracy : \",accu(y_test, preds))\n",
    "\n",
    "#Calculating auc\n",
    "y_test_auc = [d[item] for item in y_test]\n",
    "preds_auc=clf_fit.predict_proba(X_imp_test)\n",
    "preds_auc = preds_auc[:,0]\n",
    "fpr, tpr, thresholds = roc_curve(y_test_auc,preds_auc,pos_label=1)\n",
    "print(\"AUC : \",auc(fpr, tpr))\n",
    "plotauc(fpr,tpr,\"AUC of Random Forest Mdoel (Imp Features)\")"
   ]
  },
  {
   "cell_type": "markdown",
   "metadata": {},
   "source": [
    "### 2) Decision Tree"
   ]
  },
  {
   "cell_type": "code",
   "execution_count": 35,
   "metadata": {},
   "outputs": [
    {
     "name": "stdout",
     "output_type": "stream",
     "text": [
      "              precision    recall  f1-score   support\n",
      "\n",
      "   CERTIFIED       0.79      0.85      0.82      1915\n",
      "      DENIED       0.82      0.75      0.79      1788\n",
      "\n",
      "   micro avg       0.80      0.80      0.80      3703\n",
      "   macro avg       0.81      0.80      0.80      3703\n",
      "weighted avg       0.80      0.80      0.80      3703\n",
      "\n",
      "Accuracy :  0.8034026465028355\n",
      "AUC :  0.8520605895993597\n"
     ]
    },
    {
     "data": {
      "image/png": "[encoded data removed]",
      "text/plain": [
       "<Figure size 432x288 with 1 Axes>"
      ]
     },
     "metadata": {
      "needs_background": "light"
     },
     "output_type": "display_data"
    }
   ],
   "source": [
    "#Using All Features\n",
    "dtc_fit = dtc(max_depth=10).fit(X_train, y_train)\n",
    "preds_dtc = dtc_fit.predict(X_test)\n",
    "print(cr(y_test, preds_dtc))\n",
    "print(\"Accuracy : \",accu(y_test, preds_dtc))\n",
    "\n",
    "#Calculating auc\n",
    "y_test_auc = [d[item] for item in y_test]\n",
    "preds_auc=dtc_fit.predict_proba(X_test) \n",
    "preds_auc = preds_auc[:,0]\n",
    "fpr, tpr, thresholds = roc_curve(y_test_auc,preds_auc,pos_label=1)\n",
    "print(\"AUC : \",auc(fpr, tpr))\n",
    "plotauc(fpr,tpr,\"AUC of Decision Tree Mdoel (All Features)\")"
   ]
  },
  {
   "cell_type": "code",
   "execution_count": 36,
   "metadata": {},
   "outputs": [
    {
     "name": "stdout",
     "output_type": "stream",
     "text": [
      "              precision    recall  f1-score   support\n",
      "\n",
      "   CERTIFIED       0.79      0.85      0.82      1915\n",
      "      DENIED       0.82      0.76      0.79      1788\n",
      "\n",
      "   micro avg       0.80      0.80      0.80      3703\n",
      "   macro avg       0.81      0.80      0.80      3703\n",
      "weighted avg       0.81      0.80      0.80      3703\n",
      "\n",
      "Accuracy :  0.8036726978125844\n",
      "AUC :  0.8527691134981686\n"
     ]
    },
    {
     "data": {
      "image/png": "[encoded data removed]",
      "text/plain": [
       "<Figure size 432x288 with 1 Axes>"
      ]
     },
     "metadata": {
      "needs_background": "light"
     },
     "output_type": "display_data"
    }
   ],
   "source": [
    "#Using Important Features Only\n",
    "dtc_fit = dtc(max_depth=10).fit(X_imp_train, y_train)\n",
    "preds_dtc = dtc_fit.predict(X_imp_test)\n",
    "print(cr(y_test, preds_dtc))\n",
    "print(\"Accuracy : \",accu(y_test, preds_dtc))\n",
    "\n",
    "#Calculating auc\n",
    "y_test_auc = [d[item] for item in y_test]\n",
    "preds_auc=dtc_fit.predict_proba(X_imp_test) \n",
    "preds_auc = preds_auc[:,0]\n",
    "fpr, tpr, thresholds = roc_curve(y_test_auc,preds_auc,pos_label=1)\n",
    "print(\"AUC : \",auc(fpr, tpr))\n",
    "plotauc(fpr,tpr,\"AUC of Decision Tree Mdoel (Imp Features)\")"
   ]
  },
  {
   "cell_type": "markdown",
   "metadata": {},
   "source": [
    "### 3) KNN"
   ]
  },
  {
   "cell_type": "code",
   "execution_count": 37,
   "metadata": {},
   "outputs": [
    {
     "name": "stdout",
     "output_type": "stream",
     "text": [
      "              precision    recall  f1-score   support\n",
      "\n",
      "   CERTIFIED       0.79      0.86      0.82      1915\n",
      "      DENIED       0.84      0.75      0.79      1788\n",
      "\n",
      "   micro avg       0.81      0.81      0.81      3703\n",
      "   macro avg       0.81      0.81      0.81      3703\n",
      "weighted avg       0.81      0.81      0.81      3703\n",
      "\n",
      "Accuracy :  0.8071833648393195\n",
      "AUC :  0.8636665381627444\n"
     ]
    },
    {
     "data": {
      "image/png": "[encoded data removed]",
      "text/plain": [
       "<Figure size 432x288 with 1 Axes>"
      ]
     },
     "metadata": {
      "needs_background": "light"
     },
     "output_type": "display_data"
    }
   ],
   "source": [
    "#Using All Features\n",
    "knn_fit = knn().fit(X_train, y_train)\n",
    "preds_knn = knn_fit.predict(X_test)\n",
    "print(cr(y_test, preds_knn))\n",
    "print(\"Accuracy : \",accu(y_test, preds_knn))\n",
    "\n",
    "#Calculating auc\n",
    "y_test_auc = [d[item] for item in y_test]\n",
    "preds_auc=knn_fit.predict_proba(X_test) \n",
    "preds_auc = preds_auc[:,0]\n",
    "fpr, tpr, thresholds = roc_curve(y_test_auc,preds_auc,pos_label=1)\n",
    "print(\"AUC : \",auc(fpr, tpr))\n",
    "plotauc(fpr,tpr,\"AUC of KNN Mdoel (All Features)\")"
   ]
  },
  {
   "cell_type": "code",
   "execution_count": 38,
   "metadata": {},
   "outputs": [
    {
     "name": "stdout",
     "output_type": "stream",
     "text": [
      "              precision    recall  f1-score   support\n",
      "\n",
      "   CERTIFIED       0.79      0.85      0.82      1915\n",
      "      DENIED       0.83      0.75      0.79      1788\n",
      "\n",
      "   micro avg       0.80      0.80      0.80      3703\n",
      "   macro avg       0.81      0.80      0.80      3703\n",
      "weighted avg       0.81      0.80      0.80      3703\n",
      "\n",
      "Accuracy :  0.8036726978125844\n",
      "AUC :  0.861570025876017\n"
     ]
    },
    {
     "data": {
      "image/png": "[encoded data removed]",
      "text/plain": [
       "<Figure size 432x288 with 1 Axes>"
      ]
     },
     "metadata": {
      "needs_background": "light"
     },
     "output_type": "display_data"
    }
   ],
   "source": [
    "#Using Important Features only\n",
    "knn_fit = knn().fit(X_imp_train, y_train)\n",
    "preds_knn = knn_fit.predict(X_imp_test)\n",
    "print(cr(y_test, preds_knn))\n",
    "print(\"Accuracy : \",accu(y_test, preds_knn))\n",
    "\n",
    "#Calculating auc\n",
    "y_test_auc = [d[item] for item in y_test]\n",
    "preds_auc=knn_fit.predict_proba(X_imp_test) \n",
    "preds_auc = preds_auc[:,0]\n",
    "fpr, tpr, thresholds = roc_curve(y_test_auc,preds_auc,pos_label=1)\n",
    "print(\"AUC : \",auc(fpr, tpr))\n",
    "plotauc(fpr,tpr,\"AUC of KNN Mdoel (Imp Features)\")"
   ]
  },
  {
   "cell_type": "markdown",
   "metadata": {},
   "source": [
    "### 4) Multinomail Naive Bayes (MNB)"
   ]
  },
  {
   "cell_type": "code",
   "execution_count": 39,
   "metadata": {},
   "outputs": [
    {
     "name": "stdout",
     "output_type": "stream",
     "text": [
      "              precision    recall  f1-score   support\n",
      "\n",
      "   CERTIFIED       0.77      0.90      0.83      1915\n",
      "      DENIED       0.87      0.71      0.78      1788\n",
      "\n",
      "   micro avg       0.81      0.81      0.81      3703\n",
      "   macro avg       0.82      0.80      0.80      3703\n",
      "weighted avg       0.81      0.81      0.80      3703\n",
      "\n",
      "Accuracy :  0.8055630569808263\n",
      "AUC :  0.8840739832127148\n"
     ]
    },
    {
     "data": {
      "image/png": "[encoded data removed]",
      "text/plain": [
       "<Figure size 432x288 with 1 Axes>"
      ]
     },
     "metadata": {
      "needs_background": "light"
     },
     "output_type": "display_data"
    }
   ],
   "source": [
    "#Using All Features\n",
    "mnb_fit = MultinomialNB().fit(X_train, y_train)\n",
    "preds_mnb = mnb_fit.predict(X_test)\n",
    "print(cr(y_test, preds_mnb))\n",
    "print(\"Accuracy : \",accu(y_test, preds_mnb))\n",
    "\n",
    "#Calculating auc\n",
    "y_test_auc = [d[item] for item in y_test]\n",
    "preds_auc=mnb_fit.predict_proba(X_test) \n",
    "preds_auc = preds_auc[:,0]\n",
    "fpr, tpr, thresholds = roc_curve(y_test_auc,preds_auc,pos_label=1)\n",
    "print(\"AUC : \",auc(fpr, tpr))\n",
    "plotauc(fpr,tpr,\"AUC of Naive Bayes Model (All Features)\")"
   ]
  },
  {
   "cell_type": "code",
   "execution_count": 40,
   "metadata": {},
   "outputs": [
    {
     "name": "stdout",
     "output_type": "stream",
     "text": [
      "              precision    recall  f1-score   support\n",
      "\n",
      "   CERTIFIED       0.75      0.88      0.81      1915\n",
      "      DENIED       0.85      0.69      0.76      1788\n",
      "\n",
      "   micro avg       0.79      0.79      0.79      3703\n",
      "   macro avg       0.80      0.79      0.79      3703\n",
      "weighted avg       0.80      0.79      0.79      3703\n",
      "\n",
      "Accuracy :  0.7885498244666487\n",
      "AUC :  0.8659470447018418\n"
     ]
    },
    {
     "data": {
      "image/png": "[encoded data removed]",
      "text/plain": [
       "<Figure size 432x288 with 1 Axes>"
      ]
     },
     "metadata": {
      "needs_background": "light"
     },
     "output_type": "display_data"
    }
   ],
   "source": [
    "#Using Important Features only\n",
    "mnb_fit = MultinomialNB().fit(X_imp_train, y_train)\n",
    "preds_mnb = mnb_fit.predict(X_imp_test)\n",
    "print(cr(y_test, preds_mnb))\n",
    "print(\"Accuracy : \",accu(y_test, preds_mnb))\n",
    "\n",
    "#Calculating auc\n",
    "y_test_auc = [d[item] for item in y_test]\n",
    "#preds_auc = [d[item] for item in preds]\n",
    "preds_auc=mnb_fit.predict_proba(X_imp_test) \n",
    "preds_auc = preds_auc[:,0]\n",
    "fpr, tpr, thresholds = roc_curve(y_test_auc,preds_auc,pos_label=1)\n",
    "print(\"AUC : \",auc(fpr, tpr))\n",
    "plotauc(fpr,tpr,\"AUC of Naive Bayes Model (Imp Features)\")"
   ]
  },
  {
   "cell_type": "markdown",
   "metadata": {},
   "source": [
    "### 5) SVM"
   ]
  },
  {
   "cell_type": "code",
   "execution_count": 41,
   "metadata": {},
   "outputs": [
    {
     "name": "stdout",
     "output_type": "stream",
     "text": [
      "              precision    recall  f1-score   support\n",
      "\n",
      "   CERTIFIED       0.80      0.88      0.84      1915\n",
      "      DENIED       0.86      0.76      0.81      1788\n",
      "\n",
      "   micro avg       0.82      0.82      0.82      3703\n",
      "   macro avg       0.83      0.82      0.82      3703\n",
      "weighted avg       0.83      0.82      0.82      3703\n",
      "\n",
      "Accuracy :  0.8239265460437483\n"
     ]
    }
   ],
   "source": [
    "#Using All Features\n",
    "preds_svm = svm.LinearSVC().fit(X_train, y_train).predict(X_test)\n",
    "print(cr(y_test, preds_svm))\n",
    "print(\"Accuracy : \",accu(y_test, preds_svm))"
   ]
  },
  {
   "cell_type": "code",
   "execution_count": 42,
   "metadata": {},
   "outputs": [
    {
     "name": "stdout",
     "output_type": "stream",
     "text": [
      "              precision    recall  f1-score   support\n",
      "\n",
      "   CERTIFIED       0.78      0.89      0.83      1915\n",
      "      DENIED       0.86      0.73      0.79      1788\n",
      "\n",
      "   micro avg       0.81      0.81      0.81      3703\n",
      "   macro avg       0.82      0.81      0.81      3703\n",
      "weighted avg       0.82      0.81      0.81      3703\n",
      "\n",
      "Accuracy :  0.8139346475830408\n"
     ]
    }
   ],
   "source": [
    "#Using Important Features Only\n",
    "preds_svm = svm.LinearSVC().fit(X_imp_train, y_train).predict(X_imp_test)\n",
    "print(cr(y_test, preds_svm))\n",
    "print(\"Accuracy : \",accu(y_test, preds_svm))"
   ]
  },
  {
   "cell_type": "markdown",
   "metadata": {},
   "source": [
    "### 6) Neural Network"
   ]
  },
  {
   "cell_type": "code",
   "execution_count": 43,
   "metadata": {},
   "outputs": [
    {
     "name": "stderr",
     "output_type": "stream",
     "text": [
      "C:\\Users\\user\\Anaconda3\\lib\\site-packages\\sklearn\\neural_network\\multilayer_perceptron.py:562: ConvergenceWarning: Stochastic Optimizer: Maximum iterations (200) reached and the optimization hasn't converged yet.\n",
      "  % self.max_iter, ConvergenceWarning)\n"
     ]
    },
    {
     "name": "stdout",
     "output_type": "stream",
     "text": [
      "              precision    recall  f1-score   support\n",
      "\n",
      "   CERTIFIED       0.80      0.78      0.79      1915\n",
      "      DENIED       0.77      0.80      0.78      1788\n",
      "\n",
      "   micro avg       0.79      0.79      0.79      3703\n",
      "   macro avg       0.79      0.79      0.79      3703\n",
      "weighted avg       0.79      0.79      0.79      3703\n",
      "\n",
      "Accuracy :  0.7877396705374021\n",
      "AUC :  0.8635029877161933\n"
     ]
    },
    {
     "data": {
      "image/png": "[encoded data removed]",
      "text/plain": [
       "<Figure size 432x288 with 1 Axes>"
      ]
     },
     "metadata": {
      "needs_background": "light"
     },
     "output_type": "display_data"
    }
   ],
   "source": [
    "#Using All Features\n",
    "mlp_fit = mlp(batch_size=128, learning_rate='adaptive').fit(X_train, y_train)\n",
    "preds_mlp = mlp_fit.predict(X_test)\n",
    "print(cr(y_test, preds_mlp))\n",
    "print(\"Accuracy : \",accu(y_test, preds_mlp))\n",
    "\n",
    "#Calculating auc\n",
    "y_test_auc = [d[item] for item in y_test]\n",
    "preds_auc=mlp_fit.predict_proba(X_test) \n",
    "preds_auc = preds_auc[:,0]\n",
    "fpr, tpr, thresholds = roc_curve(y_test_auc,preds_auc,pos_label=1)\n",
    "print(\"AUC : \",auc(fpr, tpr))\n",
    "plotauc(fpr,tpr,\"AUC of Neural Network Mdoel (All Features)\")"
   ]
  },
  {
   "cell_type": "code",
   "execution_count": 44,
   "metadata": {},
   "outputs": [
    {
     "name": "stderr",
     "output_type": "stream",
     "text": [
      "C:\\Users\\user\\Anaconda3\\lib\\site-packages\\sklearn\\neural_network\\multilayer_perceptron.py:562: ConvergenceWarning: Stochastic Optimizer: Maximum iterations (200) reached and the optimization hasn't converged yet.\n",
      "  % self.max_iter, ConvergenceWarning)\n"
     ]
    },
    {
     "name": "stdout",
     "output_type": "stream",
     "text": [
      "              precision    recall  f1-score   support\n",
      "\n",
      "   CERTIFIED       0.79      0.89      0.84      1915\n",
      "      DENIED       0.87      0.74      0.80      1788\n",
      "\n",
      "   micro avg       0.82      0.82      0.82      3703\n",
      "   macro avg       0.83      0.82      0.82      3703\n",
      "weighted avg       0.83      0.82      0.82      3703\n",
      "\n",
      "Accuracy :  0.8204158790170132\n",
      "AUC :  0.8866674260080256\n"
     ]
    },
    {
     "data": {
      "image/png": "[encoded data removed]",
      "text/plain": [
       "<Figure size 432x288 with 1 Axes>"
      ]
     },
     "metadata": {
      "needs_background": "light"
     },
     "output_type": "display_data"
    }
   ],
   "source": [
    "#Using Important Features Only\n",
    "mlp_fit = mlp(learning_rate='adaptive', batch_size=128).fit(X_imp_train, y_train)\n",
    "preds_mlp = mlp_fit.predict(X_imp_test)\n",
    "print(cr(y_test, preds_mlp))\n",
    "print(\"Accuracy : \",accu(y_test, preds_mlp))\n",
    "\n",
    "#Calculating auc\n",
    "y_test_auc = [d[item] for item in y_test]\n",
    "preds_auc=mlp_fit.predict_proba(X_imp_test) \n",
    "preds_auc = preds_auc[:,0]\n",
    "fpr, tpr, thresholds = roc_curve(y_test_auc,preds_auc,pos_label=1)\n",
    "print(\"AUC : \",auc(fpr, tpr))\n",
    "plotauc(fpr,tpr,\"AUC of Neural Network Mdoel (Imp Features)\")"
   ]
  }
 ],
 "metadata": {
  "kernelspec": {
   "display_name": "Python 3",
   "language": "python",
   "name": "python3"
  },
  "language_info": {
   "codemirror_mode": {
    "name": "ipython",
    "version": 3
   },
   "file_extension": ".py",
   "mimetype": "text/x-python",
   "name": "python",
   "nbconvert_exporter": "python",
   "pygments_lexer": "ipython3",
   "version": "3.7.1"
  }
 },
 "nbformat": 4,
 "nbformat_minor": 2
}
